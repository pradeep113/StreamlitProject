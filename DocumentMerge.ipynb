{
 "cells": [
  {
   "cell_type": "markdown",
   "id": "b530237c",
   "metadata": {},
   "source": [
    "## Import Required Libraries"
   ]
  },
  {
   "cell_type": "code",
   "execution_count": 1,
   "id": "f3032efc",
   "metadata": {},
   "outputs": [],
   "source": [
    "import PyPDF2\n",
    "import openpyxl\n",
    "from reportlab.lib.pagesizes import letter\n",
    "from reportlab.lib import colors\n",
    "from reportlab.lib.pagesizes import landscape\n",
    "from reportlab.lib.pagesizes import portrait\n",
    "from reportlab.lib.pagesizes import letter\n",
    "from reportlab.lib.units import inch\n",
    "from reportlab.lib import colors\n",
    "from reportlab.pdfgen import canvas\n",
    "import pdfkit\n",
    "import os\n",
    "from win32com import client"
   ]
  },
  {
   "cell_type": "markdown",
   "id": "c5bd860c",
   "metadata": {},
   "source": [
    "## Converting Multiple PDF to One PDF"
   ]
  },
  {
   "cell_type": "code",
   "execution_count": 3,
   "id": "553c1810",
   "metadata": {},
   "outputs": [
    {
     "name": "stdout",
     "output_type": "stream",
     "text": [
      "PDF files merged successfully into merged_document.pdf\n"
     ]
    }
   ],
   "source": [
    "def merge_pdfs(pdf_list, output_path):\n",
    "    merger = PyPDF2.PdfFileMerger()\n",
    "    \n",
    "    for pdf in pdf_list:\n",
    "        merger.append(pdf)\n",
    "    \n",
    "    merger.write(output_path)\n",
    "    merger.close()\n",
    "\n",
    "if __name__ == \"__main__\":\n",
    "    # List of PDF files to merge\n",
    "    pdf_files = ['Demo2.pdf', 'Demo3.pdf']\n",
    "    \n",
    "    # Output path for the merged PDF\n",
    "    output_pdf_path = 'merged_document.pdf'\n",
    "    \n",
    "    # Merge PDF files into a single PDF\n",
    "    merge_pdfs(pdf_files, output_pdf_path)\n",
    "    \n",
    "    print(f\"PDF files merged successfully into {output_pdf_path}\")"
   ]
  },
  {
   "cell_type": "markdown",
   "id": "e6a4a737",
   "metadata": {},
   "source": [
    "## Converting Multiple PDF and Excel to One PDF Documents"
   ]
  },
  {
   "cell_type": "code",
   "execution_count": 4,
   "id": "68fd9c02",
   "metadata": {},
   "outputs": [],
   "source": [
    "def merge_pdfs(pdf_files, output_pdf):\n",
    "    merger = PyPDF2.PdfFileMerger()\n",
    "    \n",
    "    for pdf_file in pdf_files:\n",
    "        merger.append(pdf_file)\n",
    "    \n",
    "    merger.write(output_pdf)\n",
    "    merger.close()\n",
    "\n",
    "def adjust_page_settings(worksheet):\n",
    "    # Set the worksheet to fit all columns on one page\n",
    "    worksheet.PageSetup.Zoom = False\n",
    "    worksheet.PageSetup.FitToPagesWide = 1\n",
    "    worksheet.PageSetup.FitToPagesTall = False\n",
    "    \n",
    "    # Adjust column widths to fit wrapped text\n",
    "    for column in worksheet.UsedRange.Columns:\n",
    "        column.AutoFit()\n",
    "    \n",
    "    # Enable text wrapping for all cells\n",
    "    for row in worksheet.UsedRange.Rows:\n",
    "        for cell in row.Cells:\n",
    "            cell.WrapText = True\n",
    "#             properties_and_methods = dir(cell)\n",
    "#             print(f\"Properties and methods for cell {cell.Address}:\")\n",
    "#             for prop_or_method in properties_and_methods:\n",
    "#                 print(f\" - {prop_or_method}\")\n",
    "#             print(\"\\n\" + \"=\"*50 + \"\\n\")  # Separator for readability\n",
    "\n",
    "def convert_excel_to_pdf(input_path, output_path):\n",
    "    # Create an instance of Excel\n",
    "    excel = client.Dispatch(\"Excel.Application\")\n",
    "    \n",
    "    # Open the Excel workbook\n",
    "    workbook = excel.Workbooks.Open(input_path)\n",
    "    \n",
    "    try:\n",
    "        # Access the first worksheet (index 1-based)\n",
    "        worksheet = workbook.Worksheets[0]  # Adjust index if you want to target a different sheet\n",
    "        \n",
    "        # Adjust page settings\n",
    "        adjust_page_settings(worksheet)\n",
    "        \n",
    "        # Export the worksheet as a PDF without changing any settings\n",
    "        # 0 => PDF, 1 => XPS\n",
    "        workbook.ExportAsFixedFormat(0, output_path)\n",
    "        \n",
    "    except Exception as e:\n",
    "        print(f\"Error: {e}\")\n",
    "    \n",
    "    finally:\n",
    "        # Close the workbook and quit Excel\n",
    "        workbook.Close()\n",
    "        excel.Quit()\n",
    "\n",
    "# Convert Excel to PDF\n",
    "path1 = \"C:\\\\Users\\\\susunils\\\\OneDrive - Capgemini\\\\Desktop\\\\Email_Indexing\\\\Code_File\\\\Demo3.xlsx\"\n",
    "path2 = \"C:\\\\Users\\\\susunils\\\\OneDrive - Capgemini\\\\Desktop\\\\Email_Indexing\\\\Code_File\\\\Demo4.xlsx\"\n",
    "path3 = \"C:\\\\Users\\\\susunils\\\\OneDrive - Capgemini\\\\Desktop\\\\Email_Indexing\\\\Code_File\\\\Demo6.pdf\"\n",
    "path4 = \"C:\\\\Users\\\\susunils\\\\OneDrive - Capgemini\\\\Desktop\\\\Email_Indexing\\\\Code_File\\\\Demo7.pdf\"\n",
    "convert_excel_to_pdf(path1, path3)\n",
    "convert_excel_to_pdf(path2, path4)\n",
    "pdf_files = ['Demo2.pdf', 'Demo3.pdf', path3, path4]\n",
    "merge_pdfs(pdf_files, 'merged_document_excel_pdf_15.pdf')"
   ]
  },
  {
   "cell_type": "code",
   "execution_count": null,
   "id": "fcb8e2ec",
   "metadata": {},
   "outputs": [],
   "source": []
  },
  {
   "cell_type": "code",
   "execution_count": null,
   "id": "4ca53a28",
   "metadata": {},
   "outputs": [],
   "source": []
  }
 ],
 "metadata": {
  "kernelspec": {
   "display_name": "Python 3 (ipykernel)",
   "language": "python",
   "name": "python3"
  },
  "language_info": {
   "codemirror_mode": {
    "name": "ipython",
    "version": 3
   },
   "file_extension": ".py",
   "mimetype": "text/x-python",
   "name": "python",
   "nbconvert_exporter": "python",
   "pygments_lexer": "ipython3",
   "version": "3.11.3"
  }
 },
 "nbformat": 4,
 "nbformat_minor": 5
}
